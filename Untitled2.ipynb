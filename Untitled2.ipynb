{
 "cells": [
  {
   "cell_type": "code",
   "execution_count": 1,
   "id": "6c8a931d-95ee-41b8-bf9c-e4876a39b331",
   "metadata": {},
   "outputs": [],
   "source": [
    "import pandas as pd"
   ]
  },
  {
   "cell_type": "code",
   "execution_count": 4,
   "id": "be0a3442-0467-4cdc-9f6d-9b76160cd331",
   "metadata": {},
   "outputs": [],
   "source": [
    "import os\n",
    "import PyPDF2\n",
    "from docx import Document\n",
    "from openpyxl import Workbookm"
   ]
  },
  {
   "cell_type": "code",
   "execution_count": 29,
   "id": "f53777d2-9a4c-4b3e-86c5-6f8dd718c2bf",
   "metadata": {},
   "outputs": [],
   "source": [
    "import os\n",
    "import PyPDF2\n",
    "import re\n",
    "from openpyxl import Workbook\n",
    "from docx import Document\n",
    "import phonenumbers\n",
    "\n",
    "def extract_text_from_pdf(pdf_path):\n",
    "    text = \"\"\n",
    "    with open(pdf_path, \"rb\") as file:\n",
    "        reader = PyPDF2.PdfReader(file)\n",
    "        for page_num in range(len(reader.pages)):\n",
    "            text += reader.pages[page_num].extract_text()\n",
    "    return text\n",
    "\n",
    "def extract_text_from_docx(docx_path):\n",
    "    document = Document(docx_path)\n",
    "    text = \"\"\n",
    "    for paragraph in document.paragraphs:\n",
    "        text += paragraph.text + \"\\n\"\n",
    "    return text\n",
    "\n",
    "def extract_information_from_pdf(pdf_path):\n",
    "    extracted_info = []\n",
    "    text = extract_text_from_pdf(pdf_path)\n",
    "    email_addresses = re.findall(r'\\b[A-Za-z0-9._%+-]+@[A-Za-z0-9.-]+\\.[A-Za-z]{2,}\\b', text)\n",
    "    \n",
    "    phone_numbers = []\n",
    "    for match in phonenumbers.PhoneNumberMatcher(text, \"IN\"):  # Change \"IN\" to your country code\n",
    "        phone_numbers.append(phonenumbers.format_number(match.number, phonenumbers.PhoneNumberFormat.E164))\n",
    "\n",
    "    extracted_info.append({\"Filename\": os.path.basename(pdf_path), \"Email Addresses\": email_addresses, \"Phone Numbers\": phone_numbers, \"Overall Text\": text})\n",
    "    return extracted_info\n",
    "\n",
    "def extract_information_from_docx(docx_path):\n",
    "    extracted_info = []\n",
    "    text = extract_text_from_docx(docx_path)\n",
    "    email_addresses = re.findall(r'\\b[A-Za-z0-9._%+-]+@[A-Za-z0-9.-]+\\.[A-Za-z]{2,}\\b', text)\n",
    "    \n",
    "    phone_numbers = []\n",
    "    for match in phonenumbers.PhoneNumberMatcher(text, \"IN\"):  # Change \"IN\" to your country code\n",
    "        phone_numbers.append(phonenumbers.format_number(match.number, phonenumbers.PhoneNumberFormat.E164))\n",
    "\n",
    "    extracted_info.append({\"Filename\": os.path.basename(docx_path), \"Email Addresses\": email_addresses, \"Phone Numbers\": phone_numbers, \"Overall Text\": text})\n",
    "    return extracted_info\n",
    "\n",
    "def write_to_excel(extracted_info, output_file):\n",
    "    wb = Workbook()\n",
    "    ws = wb.active\n",
    "    ws.append([\"Filename\", \"Email Addresses\", \"Phone Numbers\", \"Overall Text\"])\n",
    "    for item in extracted_info:\n",
    "        ws.append([item[\"Filename\"], ', '.join(item[\"Email Addresses\"]), ', '.join(item[\"Phone Numbers\"]), item[\"Overall Text\"]])\n",
    "    wb.save(output_file)\n",
    "\n",
    "if __name__ == \"__main__\":\n",
    "    folder_path = \"/Users/sumit/Desktop/Data science/Sample2\"  # Update with the path to your folder\n",
    "    output_excel_file = \"output.xls\"\n",
    "\n",
    "    extracted_info = []\n",
    "    for root, _, files in os.walk(folder_path):\n",
    "        for file_name in files:\n",
    "            file_path = os.path.join(root, file_name)\n",
    "            if file_name.endswith(\".pdf\"):\n",
    "                extracted_info.extend(extract_information_from_pdf(file_path))\n",
    "            elif file_name.endswith(\".docx\"):\n",
    "                extracted_info.extend(extract_information_from_docx(file_path))\n",
    "\n",
    "    write_to_excel(extracted_info, output_excel_file)\n"
   ]
  },
  {
   "cell_type": "code",
   "execution_count": null,
   "id": "8dc61471-105a-46eb-8d97-fef0dc1bc908",
   "metadata": {},
   "outputs": [],
   "source": []
  }
 ],
 "metadata": {
  "kernelspec": {
   "display_name": "Python 3 (ipykernel)",
   "language": "python",
   "name": "python3"
  },
  "language_info": {
   "codemirror_mode": {
    "name": "ipython",
    "version": 3
   },
   "file_extension": ".py",
   "mimetype": "text/x-python",
   "name": "python",
   "nbconvert_exporter": "python",
   "pygments_lexer": "ipython3",
   "version": "3.11.8"
  }
 },
 "nbformat": 4,
 "nbformat_minor": 5
}
